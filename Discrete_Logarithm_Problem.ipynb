{
 "cells": [
  {
   "cell_type": "markdown",
   "id": "03b078c2",
   "metadata": {},
   "source": [
    "Source: https://math.uchicago.edu/~may/REU2020/REUPapers/Shevchuk.pdf"
   ]
  },
  {
   "cell_type": "markdown",
   "id": "f67b72c4",
   "metadata": {},
   "source": [
    "# Playing with sage"
   ]
  },
  {
   "cell_type": "code",
   "execution_count": 8,
   "id": "6ac4f1d5",
   "metadata": {},
   "outputs": [],
   "source": [
    "k = GF((5, 2), \"b\")"
   ]
  },
  {
   "cell_type": "code",
   "execution_count": 9,
   "id": "d48eb2a7",
   "metadata": {},
   "outputs": [
    {
     "name": "stdout",
     "output_type": "stream",
     "text": [
      "0\n",
      "b\n",
      "b + 3\n",
      "4*b + 3\n",
      "2*b + 2\n",
      "4*b + 1\n",
      "2\n",
      "2*b\n",
      "2*b + 1\n",
      "3*b + 1\n",
      "4*b + 4\n",
      "3*b + 2\n",
      "4\n",
      "4*b\n",
      "4*b + 2\n",
      "b + 2\n",
      "3*b + 3\n",
      "b + 4\n",
      "3\n",
      "3*b\n",
      "3*b + 4\n",
      "2*b + 4\n",
      "b + 1\n",
      "2*b + 3\n",
      "1\n"
     ]
    }
   ],
   "source": [
    "for number in k:\n",
    "    print(number)"
   ]
  },
  {
   "cell_type": "code",
   "execution_count": 10,
   "id": "f03016f6",
   "metadata": {},
   "outputs": [
    {
     "data": {
      "text/plain": [
       "Finite Field in b of size 5^2"
      ]
     },
     "execution_count": 10,
     "metadata": {},
     "output_type": "execute_result"
    }
   ],
   "source": [
    "k"
   ]
  },
  {
   "cell_type": "markdown",
   "id": "c971a30b",
   "metadata": {},
   "source": [
    "# Diffie-Hellman Algorithm:"
   ]
  },
  {
   "cell_type": "code",
   "execution_count": 13,
   "id": "306804df",
   "metadata": {},
   "outputs": [],
   "source": [
    "import random"
   ]
  },
  {
   "cell_type": "markdown",
   "id": "73b06d19",
   "metadata": {},
   "source": [
    "Set a finite field of prime order $p$, and let $g$ be the generator. In this example we will let $p= 7$. The prime $p$ will be public as well as the generator."
   ]
  },
  {
   "cell_type": "code",
   "execution_count": 14,
   "id": "e48384d9",
   "metadata": {},
   "outputs": [],
   "source": [
    "p = 7\n",
    "k = GF(p,\"a\")\n",
    "g = k.multiplicative_generator()"
   ]
  },
  {
   "cell_type": "markdown",
   "id": "efc4b1c6",
   "metadata": {},
   "source": [
    "Both $A$ and $B$ select random numbers $a$ and $b$ respectively between $1$ and $p-1$. These are the private values."
   ]
  },
  {
   "cell_type": "code",
   "execution_count": 36,
   "id": "4ecb6629",
   "metadata": {},
   "outputs": [],
   "source": [
    "a = random.randint(2, p-2)\n",
    "b = random.randint(2, p-2)"
   ]
  },
  {
   "cell_type": "code",
   "execution_count": 37,
   "id": "1e92fc73",
   "metadata": {},
   "outputs": [
    {
     "name": "stdout",
     "output_type": "stream",
     "text": [
      "2\n",
      "3\n"
     ]
    }
   ],
   "source": [
    "print(a)\n",
    "print(b)"
   ]
  },
  {
   "cell_type": "code",
   "execution_count": 38,
   "id": "b495ad5d",
   "metadata": {},
   "outputs": [],
   "source": [
    "l = g ** a\n",
    "m = g ** b"
   ]
  },
  {
   "cell_type": "code",
   "execution_count": 39,
   "id": "05868c62",
   "metadata": {},
   "outputs": [
    {
     "name": "stdout",
     "output_type": "stream",
     "text": [
      "2\n",
      "6\n"
     ]
    }
   ],
   "source": [
    "print(l)\n",
    "print(m)"
   ]
  },
  {
   "cell_type": "markdown",
   "id": "43a0244d",
   "metadata": {},
   "source": [
    "Here the results $l$ and $m$ are public. $A$ takes $m$ and raises it to the $a$th power, while $B$ takes $l$ and raises it to the $b$th power:"
   ]
  },
  {
   "cell_type": "code",
   "execution_count": 40,
   "id": "7034bab9",
   "metadata": {},
   "outputs": [],
   "source": [
    "res_1 = m ** a\n",
    "res_2 = l ** b"
   ]
  },
  {
   "cell_type": "code",
   "execution_count": 41,
   "id": "7fce9b5c",
   "metadata": {},
   "outputs": [
    {
     "name": "stdout",
     "output_type": "stream",
     "text": [
      "1 1\n"
     ]
    }
   ],
   "source": [
    "print(res_1, res_2)"
   ]
  },
  {
   "cell_type": "markdown",
   "id": "4f85fd91",
   "metadata": {},
   "source": [
    "It turns out that $res_1$ will always be equal to $res_2$, since both of them are $g^{ab}$. Now, and this is the \"shared key\". But what if we didn't know $a$ nor $b$, and wanted to find the shared key, could we find it? We would need to compute $g^{ab}$. "
   ]
  },
  {
   "cell_type": "markdown",
   "id": "0792e8ff",
   "metadata": {},
   "source": [
    "$(a+b)^2=a^2 +2ab + b^2$. So that $((a+b)^2 - a^2 - b^2 )/ 2 = ab$."
   ]
  },
  {
   "cell_type": "markdown",
   "id": "f5ee5ef3",
   "metadata": {},
   "source": [
    "# Elliptic Curve Diffie-Hellman Algorithm:"
   ]
  },
  {
   "cell_type": "code",
   "execution_count": null,
   "id": "b459c469",
   "metadata": {},
   "outputs": [],
   "source": []
  }
 ],
 "metadata": {
  "kernelspec": {
   "display_name": "SageMath 9.6",
   "language": "sage",
   "name": "sagemath"
  },
  "language_info": {
   "codemirror_mode": {
    "name": "ipython",
    "version": 3
   },
   "file_extension": ".py",
   "mimetype": "text/x-python",
   "name": "python",
   "nbconvert_exporter": "python",
   "pygments_lexer": "ipython3",
   "version": "3.9.10"
  }
 },
 "nbformat": 4,
 "nbformat_minor": 5
}
